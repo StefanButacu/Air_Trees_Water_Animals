{
 "cells": [
  {
   "cell_type": "code",
   "execution_count": 1,
   "outputs": [],
   "source": [
    "import pandas as pd"
   ],
   "metadata": {
    "collapsed": false
   }
  },
  {
   "cell_type": "code",
   "execution_count": 2,
   "outputs": [],
   "source": [
    "DATA_PATH = '../data/Environment_Temperature_change_E_All_Data_NOFLAG.csv'"
   ],
   "metadata": {
    "collapsed": false
   }
  },
  {
   "cell_type": "code",
   "execution_count": 3,
   "outputs": [
    {
     "name": "stdout",
     "output_type": "stream",
     "text": [
      "(9656, 66)\n",
      "   Area Code         Area  Months Code    Months  Element Code  \\\n",
      "0          2  Afghanistan         7001   January          7271   \n",
      "1          2  Afghanistan         7001   January          6078   \n",
      "2          2  Afghanistan         7002  February          7271   \n",
      "3          2  Afghanistan         7002  February          6078   \n",
      "4          2  Afghanistan         7003     March          7271   \n",
      "5          2  Afghanistan         7003     March          6078   \n",
      "6          2  Afghanistan         7004     April          7271   \n",
      "7          2  Afghanistan         7004     April          6078   \n",
      "8          2  Afghanistan         7005       May          7271   \n",
      "9          2  Afghanistan         7005       May          6078   \n",
      "\n",
      "              Element Unit  Y1961  Y1962  Y1963  ...  Y2010  Y2011  Y2012  \\\n",
      "0  Temperature change   °C  0.777  0.062  2.744  ...  3.601  1.179 -0.583   \n",
      "1  Standard Deviation   °C  1.950  1.950  1.950  ...  1.950  1.950  1.950   \n",
      "2  Temperature change   °C -1.743  2.465  3.919  ...  1.212  0.321 -3.201   \n",
      "3  Standard Deviation   °C  2.597  2.597  2.597  ...  2.597  2.597  2.597   \n",
      "4  Temperature change   °C  0.516  1.336  0.403  ...  3.390  0.748 -0.527   \n",
      "5  Standard Deviation   °C  1.512  1.512  1.512  ...  1.512  1.512  1.512   \n",
      "6  Temperature change   °C -1.709  0.117  0.919  ...  2.591  1.712  1.417   \n",
      "7  Standard Deviation   °C  1.406  1.406  1.406  ...  1.406  1.406  1.406   \n",
      "8  Temperature change   °C  1.412 -0.092 -0.690  ...  1.419  3.643  0.909   \n",
      "9  Standard Deviation   °C  1.230  1.230  1.230  ...  1.230  1.230  1.230   \n",
      "\n",
      "   Y2013  Y2014  Y2015  Y2016  Y2017  Y2018  Y2019  \n",
      "0  1.233  1.755  1.943  3.416  1.201  1.996  2.951  \n",
      "1  1.950  1.950  1.950  1.950  1.950  1.950  1.950  \n",
      "2  1.494 -3.187  2.699  2.251 -0.323  2.705  0.086  \n",
      "3  2.597  2.597  2.597  2.597  2.597  2.597  2.597  \n",
      "4  2.246 -0.076 -0.497  2.296  0.834  4.418  0.234  \n",
      "5  1.512  1.512  1.512  1.512  1.512  1.512  1.512  \n",
      "6 -0.052  0.585  1.589  0.980  1.252  1.442  0.899  \n",
      "7  1.406  1.406  1.406  1.406  1.406  1.406  1.406  \n",
      "8  1.201  0.959  1.862  3.246  3.280  0.855  0.647  \n",
      "9  1.230  1.230  1.230  1.230  1.230  1.230  1.230  \n",
      "\n",
      "[10 rows x 66 columns]\n"
     ]
    }
   ],
   "source": [
    "data_frame = pd.read_csv(DATA_PATH, encoding='cp1252')\n",
    "print(data_frame.shape)\n",
    "print(data_frame.head(10))\n"
   ],
   "metadata": {
    "collapsed": false
   }
  },
  {
   "cell_type": "code",
   "execution_count": 4,
   "outputs": [
    {
     "data": {
      "text/plain": "   Area Code         Area  Months Code    Months  Element Code  \\\n0          2  Afghanistan         7001   January          7271   \n1          2  Afghanistan         7001   January          6078   \n2          2  Afghanistan         7002  February          7271   \n3          2  Afghanistan         7002  February          6078   \n4          2  Afghanistan         7003     March          7271   \n5          2  Afghanistan         7003     March          6078   \n6          2  Afghanistan         7004     April          7271   \n7          2  Afghanistan         7004     April          6078   \n8          2  Afghanistan         7005       May          7271   \n9          2  Afghanistan         7005       May          6078   \n\n              Element Unit  Y1961  Y1962  Y1963  \n0  Temperature change   °C  0.777  0.062  2.744  \n1  Standard Deviation   °C  1.950  1.950  1.950  \n2  Temperature change   °C -1.743  2.465  3.919  \n3  Standard Deviation   °C  2.597  2.597  2.597  \n4  Temperature change   °C  0.516  1.336  0.403  \n5  Standard Deviation   °C  1.512  1.512  1.512  \n6  Temperature change   °C -1.709  0.117  0.919  \n7  Standard Deviation   °C  1.406  1.406  1.406  \n8  Temperature change   °C  1.412 -0.092 -0.690  \n9  Standard Deviation   °C  1.230  1.230  1.230  ",
      "text/html": "<div>\n<style scoped>\n    .dataframe tbody tr th:only-of-type {\n        vertical-align: middle;\n    }\n\n    .dataframe tbody tr th {\n        vertical-align: top;\n    }\n\n    .dataframe thead th {\n        text-align: right;\n    }\n</style>\n<table border=\"1\" class=\"dataframe\">\n  <thead>\n    <tr style=\"text-align: right;\">\n      <th></th>\n      <th>Area Code</th>\n      <th>Area</th>\n      <th>Months Code</th>\n      <th>Months</th>\n      <th>Element Code</th>\n      <th>Element</th>\n      <th>Unit</th>\n      <th>Y1961</th>\n      <th>Y1962</th>\n      <th>Y1963</th>\n    </tr>\n  </thead>\n  <tbody>\n    <tr>\n      <th>0</th>\n      <td>2</td>\n      <td>Afghanistan</td>\n      <td>7001</td>\n      <td>January</td>\n      <td>7271</td>\n      <td>Temperature change</td>\n      <td>°C</td>\n      <td>0.777</td>\n      <td>0.062</td>\n      <td>2.744</td>\n    </tr>\n    <tr>\n      <th>1</th>\n      <td>2</td>\n      <td>Afghanistan</td>\n      <td>7001</td>\n      <td>January</td>\n      <td>6078</td>\n      <td>Standard Deviation</td>\n      <td>°C</td>\n      <td>1.950</td>\n      <td>1.950</td>\n      <td>1.950</td>\n    </tr>\n    <tr>\n      <th>2</th>\n      <td>2</td>\n      <td>Afghanistan</td>\n      <td>7002</td>\n      <td>February</td>\n      <td>7271</td>\n      <td>Temperature change</td>\n      <td>°C</td>\n      <td>-1.743</td>\n      <td>2.465</td>\n      <td>3.919</td>\n    </tr>\n    <tr>\n      <th>3</th>\n      <td>2</td>\n      <td>Afghanistan</td>\n      <td>7002</td>\n      <td>February</td>\n      <td>6078</td>\n      <td>Standard Deviation</td>\n      <td>°C</td>\n      <td>2.597</td>\n      <td>2.597</td>\n      <td>2.597</td>\n    </tr>\n    <tr>\n      <th>4</th>\n      <td>2</td>\n      <td>Afghanistan</td>\n      <td>7003</td>\n      <td>March</td>\n      <td>7271</td>\n      <td>Temperature change</td>\n      <td>°C</td>\n      <td>0.516</td>\n      <td>1.336</td>\n      <td>0.403</td>\n    </tr>\n    <tr>\n      <th>5</th>\n      <td>2</td>\n      <td>Afghanistan</td>\n      <td>7003</td>\n      <td>March</td>\n      <td>6078</td>\n      <td>Standard Deviation</td>\n      <td>°C</td>\n      <td>1.512</td>\n      <td>1.512</td>\n      <td>1.512</td>\n    </tr>\n    <tr>\n      <th>6</th>\n      <td>2</td>\n      <td>Afghanistan</td>\n      <td>7004</td>\n      <td>April</td>\n      <td>7271</td>\n      <td>Temperature change</td>\n      <td>°C</td>\n      <td>-1.709</td>\n      <td>0.117</td>\n      <td>0.919</td>\n    </tr>\n    <tr>\n      <th>7</th>\n      <td>2</td>\n      <td>Afghanistan</td>\n      <td>7004</td>\n      <td>April</td>\n      <td>6078</td>\n      <td>Standard Deviation</td>\n      <td>°C</td>\n      <td>1.406</td>\n      <td>1.406</td>\n      <td>1.406</td>\n    </tr>\n    <tr>\n      <th>8</th>\n      <td>2</td>\n      <td>Afghanistan</td>\n      <td>7005</td>\n      <td>May</td>\n      <td>7271</td>\n      <td>Temperature change</td>\n      <td>°C</td>\n      <td>1.412</td>\n      <td>-0.092</td>\n      <td>-0.690</td>\n    </tr>\n    <tr>\n      <th>9</th>\n      <td>2</td>\n      <td>Afghanistan</td>\n      <td>7005</td>\n      <td>May</td>\n      <td>6078</td>\n      <td>Standard Deviation</td>\n      <td>°C</td>\n      <td>1.230</td>\n      <td>1.230</td>\n      <td>1.230</td>\n    </tr>\n  </tbody>\n</table>\n</div>"
     },
     "execution_count": 4,
     "metadata": {},
     "output_type": "execute_result"
    }
   ],
   "source": [
    "data_frame.iloc[:10, : 10]\n"
   ],
   "metadata": {
    "collapsed": false
   }
  },
  {
   "cell_type": "code",
   "execution_count": 4,
   "outputs": [],
   "source": [],
   "metadata": {
    "collapsed": false
   }
  }
 ],
 "metadata": {
  "kernelspec": {
   "display_name": "Python 3",
   "language": "python",
   "name": "python3"
  },
  "language_info": {
   "codemirror_mode": {
    "name": "ipython",
    "version": 2
   },
   "file_extension": ".py",
   "mimetype": "text/x-python",
   "name": "python",
   "nbconvert_exporter": "python",
   "pygments_lexer": "ipython2",
   "version": "2.7.6"
  }
 },
 "nbformat": 4,
 "nbformat_minor": 0
}
