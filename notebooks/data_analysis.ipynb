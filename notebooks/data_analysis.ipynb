{
 "cells": [
  {
   "cell_type": "code",
   "execution_count": 8,
   "outputs": [],
   "source": [
    "import pandas as pd"
   ],
   "metadata": {
    "collapsed": false
   }
  },
  {
   "cell_type": "code",
   "execution_count": 9,
   "outputs": [],
   "source": [
    "DATA_PATH = '../data/Environment_Temperature_change_E_All_Data_NOFLAG.csv'"
   ],
   "metadata": {
    "collapsed": false
   }
  },
  {
   "cell_type": "code",
   "execution_count": 14,
   "outputs": [
    {
     "name": "stdout",
     "output_type": "stream",
     "text": [
      "(9656, 66)\n",
      "   Area Code         Area  Months Code    Months  Element Code  \\\n",
      "0          2  Afghanistan         7001   January          7271   \n",
      "1          2  Afghanistan         7001   January          6078   \n",
      "2          2  Afghanistan         7002  February          7271   \n",
      "3          2  Afghanistan         7002  February          6078   \n",
      "4          2  Afghanistan         7003     March          7271   \n",
      "5          2  Afghanistan         7003     March          6078   \n",
      "6          2  Afghanistan         7004     April          7271   \n",
      "7          2  Afghanistan         7004     April          6078   \n",
      "8          2  Afghanistan         7005       May          7271   \n",
      "9          2  Afghanistan         7005       May          6078   \n",
      "\n",
      "              Element Unit  Y1961  Y1962  Y1963  ...  Y2010  Y2011  Y2012  \\\n",
      "0  Temperature change   °C  0.777  0.062  2.744  ...  3.601  1.179 -0.583   \n",
      "1  Standard Deviation   °C  1.950  1.950  1.950  ...  1.950  1.950  1.950   \n",
      "2  Temperature change   °C -1.743  2.465  3.919  ...  1.212  0.321 -3.201   \n",
      "3  Standard Deviation   °C  2.597  2.597  2.597  ...  2.597  2.597  2.597   \n",
      "4  Temperature change   °C  0.516  1.336  0.403  ...  3.390  0.748 -0.527   \n",
      "5  Standard Deviation   °C  1.512  1.512  1.512  ...  1.512  1.512  1.512   \n",
      "6  Temperature change   °C -1.709  0.117  0.919  ...  2.591  1.712  1.417   \n",
      "7  Standard Deviation   °C  1.406  1.406  1.406  ...  1.406  1.406  1.406   \n",
      "8  Temperature change   °C  1.412 -0.092 -0.690  ...  1.419  3.643  0.909   \n",
      "9  Standard Deviation   °C  1.230  1.230  1.230  ...  1.230  1.230  1.230   \n",
      "\n",
      "   Y2013  Y2014  Y2015  Y2016  Y2017  Y2018  Y2019  \n",
      "0  1.233  1.755  1.943  3.416  1.201  1.996  2.951  \n",
      "1  1.950  1.950  1.950  1.950  1.950  1.950  1.950  \n",
      "2  1.494 -3.187  2.699  2.251 -0.323  2.705  0.086  \n",
      "3  2.597  2.597  2.597  2.597  2.597  2.597  2.597  \n",
      "4  2.246 -0.076 -0.497  2.296  0.834  4.418  0.234  \n",
      "5  1.512  1.512  1.512  1.512  1.512  1.512  1.512  \n",
      "6 -0.052  0.585  1.589  0.980  1.252  1.442  0.899  \n",
      "7  1.406  1.406  1.406  1.406  1.406  1.406  1.406  \n",
      "8  1.201  0.959  1.862  3.246  3.280  0.855  0.647  \n",
      "9  1.230  1.230  1.230  1.230  1.230  1.230  1.230  \n",
      "\n",
      "[10 rows x 66 columns]\n"
     ]
    }
   ],
   "source": [
    "data_frame = pd.read_csv(DATA_PATH, encoding='cp1252')\n",
    "print(data_frame.shape)\n",
    "print(data_frame.head(10))"
   ],
   "metadata": {
    "collapsed": false
   }
  },
  {
   "cell_type": "code",
   "execution_count": null,
   "outputs": [],
   "source": [],
   "metadata": {
    "collapsed": false,
    "pycharm": {
     "is_executing": true
    }
   }
  },
  {
   "cell_type": "code",
   "execution_count": null,
   "outputs": [],
   "source": [],
   "metadata": {
    "collapsed": false
   }
  }
 ],
 "metadata": {
  "kernelspec": {
   "display_name": "Python 3",
   "language": "python",
   "name": "python3"
  },
  "language_info": {
   "codemirror_mode": {
    "name": "ipython",
    "version": 2
   },
   "file_extension": ".py",
   "mimetype": "text/x-python",
   "name": "python",
   "nbconvert_exporter": "python",
   "pygments_lexer": "ipython2",
   "version": "2.7.6"
  }
 },
 "nbformat": 4,
 "nbformat_minor": 0
}
